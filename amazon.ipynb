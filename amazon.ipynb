{
 "cells": [
  {
   "cell_type": "code",
   "execution_count": 264,
   "metadata": {},
   "outputs": [],
   "source": [
    "import requests\n",
    "from requests import get\n",
    "from bs4 import BeautifulSoup\n",
    "import pandas as pd\n",
    "import numpy as np\n"
   ]
  },
  {
   "cell_type": "code",
   "execution_count": 265,
   "metadata": {},
   "outputs": [],
   "source": [
    "amazon_text=(\"https://www.amazon.in/s?k=mobile&rh=p_36%3A-2000000&page=2&qid=1612693522&rnid=1318502031&ref=sr_pg_\")\n"
   ]
  },
  {
   "cell_type": "code",
   "execution_count": 266,
   "metadata": {},
   "outputs": [],
   "source": [
    "product=[]\n",
    "price=[]\n",
    "rating=[]\n",
    "for page in range(1,6):\n",
    "    page=1\n",
    "    req=requests.get(amazon_text+str(page))\n",
    "    soup=BeautifulSoup(req.text,\"lxml\")\n",
    "    for d in soup.findAll('div', attrs={'class':'a-section a-spacing-medium'}):\n",
    "        product.append(d.find('span', attrs={'class':'a-size-medium a-color-base a-text-normal'}))\n",
    "        price.append(d.find('span', attrs={'class':'a-price-whole'}))\n",
    "        rating.append(d.find('span', attrs={\"data-hook\":\"acr-average-stars-rating-text\"}))"
   ]
  },
  {
   "cell_type": "code",
   "execution_count": null,
   "metadata": {},
   "outputs": [],
   "source": []
  },
  {
   "cell_type": "code",
   "execution_count": null,
   "metadata": {},
   "outputs": [],
   "source": [
    "<span data-hook=\"acr-average-stars-rating-text\" class=\"a-size-medium a-color-base a-text-beside-button a-text-bold\">4.2 out of 5</span>"
   ]
  },
  {
   "cell_type": "code",
   "execution_count": null,
   "metadata": {},
   "outputs": [],
   "source": [
    "<div class=\"a-icon-row a-spacing-small a-padding-none\"><i data-hook=\"average-stars-rating-anywhere\" class=\"a-icon a-icon-star a-star-4\"><span class=\"a-icon-alt\">4.2 out of 5</span></i><span data-hook=\"acr-average-stars-rating-text\" class=\"a-size-medium a-color-base a-text-beside-button a-text-bold\">4.2 out of 5</span></div>"
   ]
  },
  {
   "cell_type": "code",
   "execution_count": 269,
   "metadata": {},
   "outputs": [
    {
     "data": {
      "text/plain": [
       "[None,\n",
       " None,\n",
       " None,\n",
       " None,\n",
       " None,\n",
       " None,\n",
       " None,\n",
       " None,\n",
       " None,\n",
       " None,\n",
       " None,\n",
       " None,\n",
       " None,\n",
       " None,\n",
       " None,\n",
       " None]"
      ]
     },
     "execution_count": 269,
     "metadata": {},
     "output_type": "execute_result"
    }
   ],
   "source": [
    "rating"
   ]
  },
  {
   "cell_type": "code",
   "execution_count": null,
   "metadata": {},
   "outputs": [],
   "source": [
    "<span aria-label=\"4.1 out of 5 stars\">\n",
    "\n",
    "\n",
    "\n",
    "\n",
    "<span class=\"a-declarative\" data-action=\"a-popover\" data-a-popover=\"{&quot;max-width&quot;:&quot;700&quot;,&quot;closeButton&quot;:false,&quot;position&quot;:&quot;triggerBottom&quot;,&quot;url&quot;:&quot;/review/widgets/average-customer-review/popover/ref=acr_search__popover?ie=UTF8&amp;asin=B07HGLC2CG&amp;ref=acr_search__popover&amp;contextId=search&quot;}\">\n",
    "\n",
    "<a href=\"javascript:void(0)\" class=\"a-popover-trigger a-declarative\"><i class=\"a-icon a-icon-star-small a-star-small-4 aok-align-bottom\"><span class=\"a-icon-alt\">4.1 out of 5 stars</span></i><i class=\"a-icon a-icon-popover\"></i></a>\n",
    "</span>\n",
    "\n",
    "\n",
    "\n",
    "\n",
    "</span>"
   ]
  },
  {
   "cell_type": "code",
   "execution_count": 204,
   "metadata": {},
   "outputs": [],
   "source": [
    "data=list(zip(product,price,rating))\n"
   ]
  },
  {
   "cell_type": "code",
   "execution_count": 205,
   "metadata": {},
   "outputs": [],
   "source": [
    "import pandas as pd\n",
    "df=pd.DataFrame(data,columns=[\"Name\",\"Price\",\"rating\"])"
   ]
  },
  {
   "cell_type": "code",
   "execution_count": 270,
   "metadata": {},
   "outputs": [
    {
     "data": {
      "text/html": [
       "<div>\n",
       "<style scoped>\n",
       "    .dataframe tbody tr th:only-of-type {\n",
       "        vertical-align: middle;\n",
       "    }\n",
       "\n",
       "    .dataframe tbody tr th {\n",
       "        vertical-align: top;\n",
       "    }\n",
       "\n",
       "    .dataframe thead th {\n",
       "        text-align: right;\n",
       "    }\n",
       "</style>\n",
       "<table border=\"1\" class=\"dataframe\">\n",
       "  <thead>\n",
       "    <tr style=\"text-align: right;\">\n",
       "      <th></th>\n",
       "      <th>Name</th>\n",
       "      <th>Price</th>\n",
       "      <th>rating</th>\n",
       "    </tr>\n",
       "  </thead>\n",
       "  <tbody>\n",
       "    <tr>\n",
       "      <th>1115</th>\n",
       "      <td>[Vivo Y91i (Black, 3GB RAM, 32GB Storage) with...</td>\n",
       "      <td>[8,490]</td>\n",
       "      <td>[702]</td>\n",
       "    </tr>\n",
       "    <tr>\n",
       "      <th>1116</th>\n",
       "      <td>[I KALL K700 4G Mobile with 6.26 Inch Display ...</td>\n",
       "      <td>[5,299]</td>\n",
       "      <td>[1]</td>\n",
       "    </tr>\n",
       "    <tr>\n",
       "      <th>1117</th>\n",
       "      <td>[itel A47 (Cosmic Purple, 2GB RAM, 32GB Storag...</td>\n",
       "      <td>[5,499]</td>\n",
       "      <td>None</td>\n",
       "    </tr>\n",
       "    <tr>\n",
       "      <th>1118</th>\n",
       "      <td>[I KALL K500 4G Mobile (6.26 Inch IPS Display,...</td>\n",
       "      <td>[6,099]</td>\n",
       "      <td>None</td>\n",
       "    </tr>\n",
       "    <tr>\n",
       "      <th>1119</th>\n",
       "      <td>[Redmi Note 9 (Arctic White, 4GB RAM, 64GB Sto...</td>\n",
       "      <td>[10,999]</td>\n",
       "      <td>[26,050]</td>\n",
       "    </tr>\n",
       "  </tbody>\n",
       "</table>\n",
       "</div>"
      ],
      "text/plain": [
       "                                                   Name     Price    rating\n",
       "1115  [Vivo Y91i (Black, 3GB RAM, 32GB Storage) with...   [8,490]     [702]\n",
       "1116  [I KALL K700 4G Mobile with 6.26 Inch Display ...   [5,299]       [1]\n",
       "1117  [itel A47 (Cosmic Purple, 2GB RAM, 32GB Storag...   [5,499]      None\n",
       "1118  [I KALL K500 4G Mobile (6.26 Inch IPS Display,...   [6,099]      None\n",
       "1119  [Redmi Note 9 (Arctic White, 4GB RAM, 64GB Sto...  [10,999]  [26,050]"
      ]
     },
     "execution_count": 270,
     "metadata": {},
     "output_type": "execute_result"
    }
   ],
   "source": [
    "df.tail()"
   ]
  },
  {
   "cell_type": "code",
   "execution_count": 251,
   "metadata": {},
   "outputs": [],
   "source": [
    "url='https://www.amazon.in/s?i=electronics&bbn=1389432031&rh=n%3A1389432031%2Cp_36%3A-2000000&dc&page='"
   ]
  },
  {
   "cell_type": "code",
   "execution_count": 250,
   "metadata": {},
   "outputs": [
    {
     "ename": "SyntaxError",
     "evalue": "invalid syntax (<ipython-input-250-a6083cb38756>, line 1)",
     "output_type": "error",
     "traceback": [
      "\u001b[1;36m  File \u001b[1;32m\"<ipython-input-250-a6083cb38756>\"\u001b[1;36m, line \u001b[1;32m1\u001b[0m\n\u001b[1;33m    <span data-hook=\"acr-average-stars-rating-text\" class=\"a-size-medium a-color-base a-text-beside-button a-text-bold\">4.2 out of 5</span>\u001b[0m\n\u001b[1;37m    ^\u001b[0m\n\u001b[1;31mSyntaxError\u001b[0m\u001b[1;31m:\u001b[0m invalid syntax\n"
     ]
    }
   ],
   "source": [
    "<span data-hook=\"acr-average-stars-rating-text\" class=\"a-size-medium a-color-base a-text-beside-button a-text-bold\">4.2 out of 5</span>"
   ]
  },
  {
   "cell_type": "code",
   "execution_count": 191,
   "metadata": {},
   "outputs": [
    {
     "ename": "SyntaxError",
     "evalue": "cannot assign to operator (<ipython-input-191-406b83b1b0ba>, line 1)",
     "output_type": "error",
     "traceback": [
      "\u001b[1;36m  File \u001b[1;32m\"<ipython-input-191-406b83b1b0ba>\"\u001b[1;36m, line \u001b[1;32m1\u001b[0m\n\u001b[1;33m    2&qid=1612768531&rnid=1318502031&ref=sr_pg_2\u001b[0m\n\u001b[1;37m    ^\u001b[0m\n\u001b[1;31mSyntaxError\u001b[0m\u001b[1;31m:\u001b[0m cannot assign to operator\n"
     ]
    }
   ],
   "source": [
    "2&qid=1612768531&rnid=1318502031&ref=sr_pg_2"
   ]
  },
  {
   "cell_type": "code",
   "execution_count": null,
   "metadata": {},
   "outputs": [],
   "source": []
  },
  {
   "cell_type": "code",
   "execution_count": 245,
   "metadata": {},
   "outputs": [],
   "source": [
    "page=requests.get(url+str(p))"
   ]
  },
  {
   "cell_type": "code",
   "execution_count": 246,
   "metadata": {},
   "outputs": [],
   "source": [
    "p=1"
   ]
  },
  {
   "cell_type": "code",
   "execution_count": 247,
   "metadata": {},
   "outputs": [],
   "source": [
    "soup=BeautifulSoup(page.text,\"html.parser\")"
   ]
  },
  {
   "cell_type": "code",
   "execution_count": 248,
   "metadata": {},
   "outputs": [],
   "source": [
    "k=soup.find('span', attrs={\"data-hook\":\"acr-average-stars-rating-text\"})"
   ]
  },
  {
   "cell_type": "code",
   "execution_count": 249,
   "metadata": {},
   "outputs": [],
   "source": [
    "k"
   ]
  },
  {
   "cell_type": "code",
   "execution_count": 161,
   "metadata": {},
   "outputs": [],
   "source": [
    "products=[]\n",
    "price=[]\n",
    "rating=[]"
   ]
  },
  {
   "cell_type": "markdown",
   "metadata": {},
   "source": [
    "for i in range(1,6):\n",
    "    page=requests.get(url+str(i))\n",
    "    soup=BeautifulSoup(page.text,\"html.parser\")\n",
    "    for d in soup.findAll('div',class_=\"a-section a-spacing-medium\"):\n",
    "        #products.append(d.find(\"span\",class_=\"a-size-medium a-color-base a-text-normal\")).text\n",
    "        price.append(d.find(\"span\",class_=\"a-price-whole\")).text\n",
    "        rating.append(d.find('span',class_='a-icon-alt')).text\n"
   ]
  },
  {
   "cell_type": "code",
   "execution_count": 177,
   "metadata": {},
   "outputs": [
    {
     "data": {
      "text/plain": [
       "[]"
      ]
     },
     "execution_count": 177,
     "metadata": {},
     "output_type": "execute_result"
    }
   ],
   "source": [
    "rating"
   ]
  },
  {
   "cell_type": "code",
   "execution_count": 195,
   "metadata": {},
   "outputs": [],
   "source": [
    "images = soup.find_all('img',attrs={\"alt\"}) \n",
    "  \n",
    "for item in images: \n",
    "    print(item.attrs['src']) "
   ]
  },
  {
   "cell_type": "code",
   "execution_count": 165,
   "metadata": {},
   "outputs": [
    {
     "ename": "SyntaxError",
     "evalue": "invalid syntax (<ipython-input-165-078b3e352ee7>, line 1)",
     "output_type": "error",
     "traceback": [
      "\u001b[1;36m  File \u001b[1;32m\"<ipython-input-165-078b3e352ee7>\"\u001b[1;36m, line \u001b[1;32m1\u001b[0m\n\u001b[1;33m    <img src=\"https://m.media-amazon.com/images/I/71hEzQGO5qL._AC_UY218_.jpg\" class=\"s-image\" alt=\"Redmi 9 Power (Blazing Blue, 4GB RAM, 64GB Storage) - 6000mAh Battery | 48MP Quad Camera\" srcset=\"https://m.media-amazon.com/images/I/71hEzQGO5qL._AC_UY218_.jpg 1x, https://m.media-amazon.com/images/I/71hEzQGO5qL._AC_UY327_FMwebp_QL65_.jpg 1.5x, https://m.media-amazon.com/images/I/71hEzQGO5qL._AC_UY436_FMwebp_QL65_.jpg 2x, https://m.media-amazon.com/images/I/71hEzQGO5qL._AC_UY545_FMwebp_QL65_.jpg 2.5x, https://m.media-amazon.com/images/I/71hEzQGO5qL._AC_UY654_FMwebp_QL65_.jpg 3x\" data-image-index=\"1\" data-image-load=\"\" data-image-latency=\"s-product-image\" data-image-source-density=\"1\">\u001b[0m\n\u001b[1;37m    ^\u001b[0m\n\u001b[1;31mSyntaxError\u001b[0m\u001b[1;31m:\u001b[0m invalid syntax\n"
     ]
    }
   ],
   "source": [
    "<img src=\"https://m.media-amazon.com/images/I/71hEzQGO5qL._AC_UY218_.jpg\" class=\"s-image\" alt=\"Redmi 9 Power (Blazing Blue, 4GB RAM, 64GB Storage) - 6000mAh Battery | 48MP Quad Camera\" srcset=\"https://m.media-amazon.com/images/I/71hEzQGO5qL._AC_UY218_.jpg 1x, https://m.media-amazon.com/images/I/71hEzQGO5qL._AC_UY327_FMwebp_QL65_.jpg 1.5x, https://m.media-amazon.com/images/I/71hEzQGO5qL._AC_UY436_FMwebp_QL65_.jpg 2x, https://m.media-amazon.com/images/I/71hEzQGO5qL._AC_UY545_FMwebp_QL65_.jpg 2.5x, https://m.media-amazon.com/images/I/71hEzQGO5qL._AC_UY654_FMwebp_QL65_.jpg 3x\" data-image-index=\"1\" data-image-load=\"\" data-image-latency=\"s-product-image\" data-image-source-density=\"1\">"
   ]
  },
  {
   "cell_type": "code",
   "execution_count": 166,
   "metadata": {},
   "outputs": [
    {
     "data": {
      "text/plain": [
       "[]"
      ]
     },
     "execution_count": 166,
     "metadata": {},
     "output_type": "execute_result"
    }
   ],
   "source": [
    "images"
   ]
  },
  {
   "cell_type": "code",
   "execution_count": 252,
   "metadata": {},
   "outputs": [],
   "source": [
    "k=soup.find(\"span\",class_=\"a-price\")\n",
    "k"
   ]
  },
  {
   "cell_type": "code",
   "execution_count": 253,
   "metadata": {
    "scrolled": true
   },
   "outputs": [
    {
     "ename": "SyntaxError",
     "evalue": "invalid syntax (<ipython-input-253-4809c4c3e2e8>, line 1)",
     "output_type": "error",
     "traceback": [
      "\u001b[1;36m  File \u001b[1;32m\"<ipython-input-253-4809c4c3e2e8>\"\u001b[1;36m, line \u001b[1;32m1\u001b[0m\n\u001b[1;33m    div class=\"a-section a-spacing-none\u001b[0m\n\u001b[1;37m        ^\u001b[0m\n\u001b[1;31mSyntaxError\u001b[0m\u001b[1;31m:\u001b[0m invalid syntax\n"
     ]
    }
   ],
   "source": [
    "div class=\"a-section a-spacing-none"
   ]
  },
  {
   "cell_type": "code",
   "execution_count": 254,
   "metadata": {},
   "outputs": [
    {
     "ename": "AttributeError",
     "evalue": "'NoneType' object has no attribute 'text'",
     "output_type": "error",
     "traceback": [
      "\u001b[1;31m---------------------------------------------------------------------------\u001b[0m",
      "\u001b[1;31mAttributeError\u001b[0m                            Traceback (most recent call last)",
      "\u001b[1;32m<ipython-input-254-23dcc65711d5>\u001b[0m in \u001b[0;36m<module>\u001b[1;34m\u001b[0m\n\u001b[1;32m----> 1\u001b[1;33m \u001b[0mk\u001b[0m\u001b[1;33m.\u001b[0m\u001b[0mtext\u001b[0m\u001b[1;33m.\u001b[0m\u001b[0mreplace\u001b[0m\u001b[1;33m(\u001b[0m\u001b[1;34m\"\\n\"\u001b[0m\u001b[1;33m,\u001b[0m\u001b[1;34m\"\"\u001b[0m\u001b[1;33m)\u001b[0m\u001b[1;33m\u001b[0m\u001b[1;33m\u001b[0m\u001b[0m\n\u001b[0m",
      "\u001b[1;31mAttributeError\u001b[0m: 'NoneType' object has no attribute 'text'"
     ]
    }
   ],
   "source": [
    "k.text.replace(\"\\n\",\"\")"
   ]
  },
  {
   "cell_type": "code",
   "execution_count": null,
   "metadata": {},
   "outputs": [],
   "source": []
  },
  {
   "cell_type": "code",
   "execution_count": null,
   "metadata": {},
   "outputs": [],
   "source": []
  }
 ],
 "metadata": {
  "kernelspec": {
   "display_name": "Python 3",
   "language": "python",
   "name": "python3"
  },
  "language_info": {
   "codemirror_mode": {
    "name": "ipython",
    "version": 3
   },
   "file_extension": ".py",
   "mimetype": "text/x-python",
   "name": "python",
   "nbconvert_exporter": "python",
   "pygments_lexer": "ipython3",
   "version": "3.8.3"
  }
 },
 "nbformat": 4,
 "nbformat_minor": 4
}
