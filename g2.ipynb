{
 "cells": [
  {
   "cell_type": "code",
   "execution_count": 171,
   "metadata": {},
   "outputs": [],
   "source": [
    "import pandas as pd\n",
    "from bs4 import BeautifulSoup\n",
    "import requests\n",
    "import time\n",
    "#importing libraries"
   ]
  },
  {
   "cell_type": "code",
   "execution_count": 172,
   "metadata": {},
   "outputs": [],
   "source": [
    "#importing webdriver\n",
    "from selenium import webdriver"
   ]
  },
  {
   "cell_type": "code",
   "execution_count": 173,
   "metadata": {},
   "outputs": [
    {
     "name": "stderr",
     "output_type": "stream",
     "text": [
      "<ipython-input-173-56a44a4849dd>:1: DeprecationWarning: executable_path has been deprecated, please pass in a Service object\n",
      "  driver=webdriver.Chrome(\"C:\\\\Users\\\\Preeti kumari\\\\chromedriver.exe\")\n"
     ]
    }
   ],
   "source": [
    "driver=webdriver.Chrome(\"C:\\\\Users\\\\Preeti kumari\\\\chromedriver.exe\")"
   ]
  },
  {
   "cell_type": "code",
   "execution_count": 174,
   "metadata": {},
   "outputs": [],
   "source": [
    "url=\"https://www.glassdoor.co.in/Salaries/new-delhi-data-scientist-salary-SRCH_IL.0,9_IM1083_KO10,24.htm?clickSource=searchBtn\""
   ]
  },
  {
   "cell_type": "code",
   "execution_count": 175,
   "metadata": {},
   "outputs": [],
   "source": [
    "driver.get(url)"
   ]
  },
  {
   "cell_type": "code",
   "execution_count": 176,
   "metadata": {},
   "outputs": [],
   "source": [
    "soup= BeautifulSoup(driver.page_source, 'html.parser')\n"
   ]
  },
  {
   "cell_type": "code",
   "execution_count": 318,
   "metadata": {},
   "outputs": [],
   "source": [
    "company=[]\n",
    "average_salary=[]\n",
    "max_salary=[]\n",
    "salary=[]\n",
    "min_salary=[]\n",
    "#creating empty list"
   ]
  },
  {
   "cell_type": "code",
   "execution_count": 319,
   "metadata": {},
   "outputs": [],
   "source": [
    "for i in soup.find_all('div',class_=\"col-3 offset-1 d-none d-md-block\"):\n",
    "    salary.append(i.text)\n",
    "#scrapping data from salary "
   ]
  },
  {
   "cell_type": "code",
   "execution_count": 320,
   "metadata": {},
   "outputs": [
    {
     "data": {
      "text/plain": [
       "['₹450K₹11,630K',\n",
       " '₹350K₹1,614K',\n",
       " '₹336K₹1,010K',\n",
       " '₹577K₹2,215K',\n",
       " '₹587K₹2,732K',\n",
       " '₹717K₹1,575K',\n",
       " '₹502K₹1,152K',\n",
       " '₹621K₹1,696K',\n",
       " '₹793K₹1,264K',\n",
       " '₹576K₹1,500K',\n",
       " '₹202K₹1,811K',\n",
       " '₹972K₹1,885K',\n",
       " '₹471K₹1,680K',\n",
       " '₹632K₹1,125K',\n",
       " '₹808K₹1,571K',\n",
       " '₹1,533K₹3,239K',\n",
       " '₹818K₹2,008K',\n",
       " '₹86K₹1,359K',\n",
       " '₹923K₹1,783K',\n",
       " '₹792K₹1,896K']"
      ]
     },
     "execution_count": 320,
     "metadata": {},
     "output_type": "execute_result"
    }
   ],
   "source": [
    "salary\n",
    "#removing comma from the salary "
   ]
  },
  {
   "cell_type": "code",
   "execution_count": 321,
   "metadata": {},
   "outputs": [
    {
     "data": {
      "text/plain": [
       "['₹450K₹11630K',\n",
       " '₹350K₹1614K',\n",
       " '₹336K₹1010K',\n",
       " '₹577K₹2215K',\n",
       " '₹587K₹2732K',\n",
       " '₹717K₹1575K',\n",
       " '₹502K₹1152K',\n",
       " '₹621K₹1696K',\n",
       " '₹793K₹1264K',\n",
       " '₹576K₹1500K']"
      ]
     },
     "execution_count": 321,
     "metadata": {},
     "output_type": "execute_result"
    }
   ],
   "source": [
    "new_salary=[]\n",
    "for i in range(0,10):\n",
    "    neww=salary[i].replace(\",\",\"\")\n",
    "    new_salary.append(neww)\n",
    "new_salary\n"
   ]
  },
  {
   "cell_type": "code",
   "execution_count": 322,
   "metadata": {},
   "outputs": [],
   "source": [
    "min_s=[]\n",
    "max_s=[]\n",
    "#creating list to store max and min salary"
   ]
  },
  {
   "cell_type": "code",
   "execution_count": 323,
   "metadata": {},
   "outputs": [],
   "source": [
    "def split(p):\n",
    "    import re\n",
    "    temp = re.findall(r'\\d+', p)\n",
    "    res = list(map(int, temp))\n",
    "    max_s.append(res[0])\n",
    "    min_s.append(res[1])\n",
    "    return max_s,min_s\n",
    "#creating a function to splitting and find max and min"
   ]
  },
  {
   "cell_type": "code",
   "execution_count": 324,
   "metadata": {},
   "outputs": [],
   "source": [
    "for i in range (0,10):\n",
    "    kk=pp[i]\n",
    "    salary=split(kk)\n",
    "    min_salary=salary[0]\n",
    "    max_salary=salary[1]\n",
    "#storing max min in respective list"
   ]
  },
  {
   "cell_type": "code",
   "execution_count": 325,
   "metadata": {},
   "outputs": [
    {
     "data": {
      "text/plain": [
       "['350K',\n",
       " '336K',\n",
       " '577K',\n",
       " '587K',\n",
       " '717K',\n",
       " '502K',\n",
       " '621K',\n",
       " '793K',\n",
       " '576K',\n",
       " '350K']"
      ]
     },
     "execution_count": 325,
     "metadata": {},
     "output_type": "execute_result"
    }
   ],
   "source": [
    "for i in range(0,10):\n",
    "    max_salary[i]=str(max_salary[i])+\"K\"\n",
    "    min_salary[i]=str(min_salary[i])+\"K\"\n",
    "\n",
    "#adding K at the end"
   ]
  },
  {
   "cell_type": "code",
   "execution_count": 342,
   "metadata": {
    "scrolled": true
   },
   "outputs": [
    {
     "data": {
      "text/plain": [
       "['₹ 12,64,182/yr',\n",
       " '₹ 7,30,968/yr',\n",
       " '₹ 6,00,000/yr',\n",
       " '₹ 9,94,055/yr',\n",
       " '₹ 7,39,040/yr',\n",
       " '₹ 13,37,114/yr',\n",
       " '₹ 7,80,374/yr',\n",
       " '₹ 11,98,792/yr',\n",
       " '₹ 10,08,143/yr',\n",
       " '₹ 11,34,989/yr',\n",
       " '₹ 10,00,000/yr',\n",
       " '₹ 14,14,106/yr',\n",
       " '₹ 13,55,753/yr',\n",
       " '₹ 9,81,176/yr',\n",
       " '₹ 12,50,079/yr',\n",
       " '₹ 15,33,073/yr',\n",
       " '₹ 12,91,651/yr',\n",
       " '₹ 5,88,751/yr',\n",
       " '₹ 17,00,000/yr',\n",
       " '₹ 11,14,262/yr']"
      ]
     },
     "execution_count": 342,
     "metadata": {},
     "output_type": "execute_result"
    }
   ],
   "source": [
    "for i in soup.find_all('div',class_=\"col-2 d-none d-md-flex flex-row justify-content-end\"):\n",
    "     average_salary.append(i.text)\n",
    "\n",
    "average_salary"
   ]
  },
  {
   "cell_type": "code",
   "execution_count": 333,
   "metadata": {},
   "outputs": [],
   "source": [
    "for i in soup.find_all(\"div\",attrs={\"class\":\"\",\"data-test\":\"job-info\"}):\n",
    "     company.append(i.text)\n",
    "#extracting company details"
   ]
  },
  {
   "cell_type": "code",
   "execution_count": 334,
   "metadata": {},
   "outputs": [],
   "source": [
    "company_new=[]"
   ]
  },
  {
   "cell_type": "code",
   "execution_count": 335,
   "metadata": {},
   "outputs": [
    {
     "data": {
      "text/plain": [
       "[['Delhivery'],\n",
       " ['Worldwide'],\n",
       " ['TataConsultancyServices'],\n",
       " ['Accenture'],\n",
       " ['IBM'],\n",
       " ['UnitedHealthGroup'],\n",
       " ['ValianceSolutions'],\n",
       " ['Innovaccer'],\n",
       " ['CognizantTechnologySolutions'],\n",
       " ['EXLService']]"
      ]
     },
     "execution_count": 335,
     "metadata": {},
     "output_type": "execute_result"
    }
   ],
   "source": [
    "for i in range(0,10):\n",
    "    m=company[i]\n",
    "    out = m[14:]\n",
    "    K=out.replace(\" \",\"\")\n",
    "    k=re.findall('([a-zA-Z]+)₹', K)\n",
    "    company_new.append(k)\n",
    "company_new\n",
    "#storing it new list"
   ]
  },
  {
   "cell_type": "code",
   "execution_count": 336,
   "metadata": {},
   "outputs": [],
   "source": [
    "company_new=company_new[:10]\n",
    "average_salary=average_salary[:10]\n",
    "max_salary=max_salary[:10]\n",
    "min_salary=min_salary[:10]\n",
    "#scraping first 10 data"
   ]
  },
  {
   "cell_type": "code",
   "execution_count": 343,
   "metadata": {},
   "outputs": [
    {
     "data": {
      "text/plain": [
       "['₹ 12,64,182/yr',\n",
       " '₹ 7,30,968/yr',\n",
       " '₹ 6,00,000/yr',\n",
       " '₹ 9,94,055/yr',\n",
       " '₹ 7,39,040/yr',\n",
       " '₹ 13,37,114/yr',\n",
       " '₹ 7,80,374/yr',\n",
       " '₹ 11,98,792/yr',\n",
       " '₹ 10,08,143/yr',\n",
       " '₹ 11,34,989/yr',\n",
       " '₹ 10,00,000/yr',\n",
       " '₹ 14,14,106/yr',\n",
       " '₹ 13,55,753/yr',\n",
       " '₹ 9,81,176/yr',\n",
       " '₹ 12,50,079/yr',\n",
       " '₹ 15,33,073/yr',\n",
       " '₹ 12,91,651/yr',\n",
       " '₹ 5,88,751/yr',\n",
       " '₹ 17,00,000/yr',\n",
       " '₹ 11,14,262/yr']"
      ]
     },
     "execution_count": 343,
     "metadata": {},
     "output_type": "execute_result"
    }
   ],
   "source": [
    "average_salary"
   ]
  },
  {
   "cell_type": "code",
   "execution_count": 344,
   "metadata": {},
   "outputs": [],
   "source": [
    "data=list(zip(company_new,average_salary,max_salary,min_salary))\n",
    "#zipping all together"
   ]
  },
  {
   "cell_type": "code",
   "execution_count": 345,
   "metadata": {},
   "outputs": [],
   "source": [
    "df=pd.DataFrame(data,columns=[\"Company\",\"Average Salary\",\"Max Salary(in thousands)\",\"Min Salary(in thousands)\"])\n",
    "#creating df"
   ]
  },
  {
   "cell_type": "code",
   "execution_count": 346,
   "metadata": {},
   "outputs": [
    {
     "data": {
      "text/html": [
       "<div>\n",
       "<style scoped>\n",
       "    .dataframe tbody tr th:only-of-type {\n",
       "        vertical-align: middle;\n",
       "    }\n",
       "\n",
       "    .dataframe tbody tr th {\n",
       "        vertical-align: top;\n",
       "    }\n",
       "\n",
       "    .dataframe thead th {\n",
       "        text-align: right;\n",
       "    }\n",
       "</style>\n",
       "<table border=\"1\" class=\"dataframe\">\n",
       "  <thead>\n",
       "    <tr style=\"text-align: right;\">\n",
       "      <th></th>\n",
       "      <th>Company</th>\n",
       "      <th>Average Salary</th>\n",
       "      <th>Max Salary(in thousands)</th>\n",
       "      <th>Min Salary(in thousands)</th>\n",
       "    </tr>\n",
       "  </thead>\n",
       "  <tbody>\n",
       "    <tr>\n",
       "      <th>0</th>\n",
       "      <td>[Delhivery]</td>\n",
       "      <td>₹ 12,64,182/yr</td>\n",
       "      <td>1614K</td>\n",
       "      <td>350K</td>\n",
       "    </tr>\n",
       "    <tr>\n",
       "      <th>1</th>\n",
       "      <td>[Worldwide]</td>\n",
       "      <td>₹ 7,30,968/yr</td>\n",
       "      <td>1010K</td>\n",
       "      <td>336K</td>\n",
       "    </tr>\n",
       "    <tr>\n",
       "      <th>2</th>\n",
       "      <td>[TataConsultancyServices]</td>\n",
       "      <td>₹ 6,00,000/yr</td>\n",
       "      <td>2215K</td>\n",
       "      <td>577K</td>\n",
       "    </tr>\n",
       "    <tr>\n",
       "      <th>3</th>\n",
       "      <td>[Accenture]</td>\n",
       "      <td>₹ 9,94,055/yr</td>\n",
       "      <td>2732K</td>\n",
       "      <td>587K</td>\n",
       "    </tr>\n",
       "    <tr>\n",
       "      <th>4</th>\n",
       "      <td>[IBM]</td>\n",
       "      <td>₹ 7,39,040/yr</td>\n",
       "      <td>1575K</td>\n",
       "      <td>717K</td>\n",
       "    </tr>\n",
       "    <tr>\n",
       "      <th>5</th>\n",
       "      <td>[UnitedHealthGroup]</td>\n",
       "      <td>₹ 13,37,114/yr</td>\n",
       "      <td>1152K</td>\n",
       "      <td>502K</td>\n",
       "    </tr>\n",
       "    <tr>\n",
       "      <th>6</th>\n",
       "      <td>[ValianceSolutions]</td>\n",
       "      <td>₹ 7,80,374/yr</td>\n",
       "      <td>1696K</td>\n",
       "      <td>621K</td>\n",
       "    </tr>\n",
       "    <tr>\n",
       "      <th>7</th>\n",
       "      <td>[Innovaccer]</td>\n",
       "      <td>₹ 11,98,792/yr</td>\n",
       "      <td>1264K</td>\n",
       "      <td>793K</td>\n",
       "    </tr>\n",
       "    <tr>\n",
       "      <th>8</th>\n",
       "      <td>[CognizantTechnologySolutions]</td>\n",
       "      <td>₹ 10,08,143/yr</td>\n",
       "      <td>1500K</td>\n",
       "      <td>576K</td>\n",
       "    </tr>\n",
       "    <tr>\n",
       "      <th>9</th>\n",
       "      <td>[EXLService]</td>\n",
       "      <td>₹ 11,34,989/yr</td>\n",
       "      <td>1614K</td>\n",
       "      <td>350K</td>\n",
       "    </tr>\n",
       "  </tbody>\n",
       "</table>\n",
       "</div>"
      ],
      "text/plain": [
       "                          Company  Average Salary Max Salary(in thousands)  \\\n",
       "0                     [Delhivery]  ₹ 12,64,182/yr                    1614K   \n",
       "1                     [Worldwide]   ₹ 7,30,968/yr                    1010K   \n",
       "2       [TataConsultancyServices]   ₹ 6,00,000/yr                    2215K   \n",
       "3                     [Accenture]   ₹ 9,94,055/yr                    2732K   \n",
       "4                           [IBM]   ₹ 7,39,040/yr                    1575K   \n",
       "5             [UnitedHealthGroup]  ₹ 13,37,114/yr                    1152K   \n",
       "6             [ValianceSolutions]   ₹ 7,80,374/yr                    1696K   \n",
       "7                    [Innovaccer]  ₹ 11,98,792/yr                    1264K   \n",
       "8  [CognizantTechnologySolutions]  ₹ 10,08,143/yr                    1500K   \n",
       "9                    [EXLService]  ₹ 11,34,989/yr                    1614K   \n",
       "\n",
       "  Min Salary(in thousands)  \n",
       "0                     350K  \n",
       "1                     336K  \n",
       "2                     577K  \n",
       "3                     587K  \n",
       "4                     717K  \n",
       "5                     502K  \n",
       "6                     621K  \n",
       "7                     793K  \n",
       "8                     576K  \n",
       "9                     350K  "
      ]
     },
     "execution_count": 346,
     "metadata": {},
     "output_type": "execute_result"
    }
   ],
   "source": [
    "df"
   ]
  },
  {
   "cell_type": "code",
   "execution_count": null,
   "metadata": {},
   "outputs": [],
   "source": []
  }
 ],
 "metadata": {
  "kernelspec": {
   "display_name": "Python 3",
   "language": "python",
   "name": "python3"
  },
  "language_info": {
   "codemirror_mode": {
    "name": "ipython",
    "version": 3
   },
   "file_extension": ".py",
   "mimetype": "text/x-python",
   "name": "python",
   "nbconvert_exporter": "python",
   "pygments_lexer": "ipython3",
   "version": "3.8.3"
  }
 },
 "nbformat": 4,
 "nbformat_minor": 4
}
