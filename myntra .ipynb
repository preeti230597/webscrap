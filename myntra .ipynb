{
 "cells": [
  {
   "cell_type": "code",
   "execution_count": 80,
   "metadata": {},
   "outputs": [],
   "source": [
    "import requests\n",
    "from requests import get\n",
    "from bs4 import BeautifulSoup\n",
    "import pandas as pd\n",
    "import numpy as np\n",
    "\n",
    "#importing libraries"
   ]
  },
  {
   "cell_type": "code",
   "execution_count": 81,
   "metadata": {},
   "outputs": [],
   "source": [
    "#entering urls\n",
    "url1=\"https://www.myntra.com/shoes?f=Color%3ABlack_36454f&plaEnabled=false&rf=Price%3A5357.0_10505.0_5357.0%20TO%2010505.0\"\n",
    "url2=\"https://www.myntra.com/shoes?f=Color%3ABlack_36454f&p=2&plaEnabled=false&rf=Price%3A5357.0_10505.0_5357.0%20TO%2010505.0\""
   ]
  },
  {
   "cell_type": "code",
   "execution_count": 82,
   "metadata": {},
   "outputs": [],
   "source": [
    "from selenium import webdriver\n",
    "#importing webdriver"
   ]
  },
  {
   "cell_type": "code",
   "execution_count": 22,
   "metadata": {
    "scrolled": true
   },
   "outputs": [
    {
     "name": "stderr",
     "output_type": "stream",
     "text": [
      "<ipython-input-22-f3fd0c04c769>:1: DeprecationWarning: executable_path has been deprecated, please pass in a Service object\n",
      "  driver1=webdriver.Chrome(\"C:\\\\Users\\\\Preeti kumari\\\\chromedriver.exe\")\n",
      "<ipython-input-22-f3fd0c04c769>:2: DeprecationWarning: executable_path has been deprecated, please pass in a Service object\n",
      "  driver2=webdriver.Chrome(\"C:\\\\Users\\\\Preeti kumari\\\\chromedriver.exe\")\n"
     ]
    }
   ],
   "source": [
    "driver1=webdriver.Chrome(\"C:\\\\Users\\\\Preeti kumari\\\\chromedriver.exe\")\n",
    "driver2=webdriver.Chrome(\"C:\\\\Users\\\\Preeti kumari\\\\chromedriver.exe\")"
   ]
  },
  {
   "cell_type": "code",
   "execution_count": 91,
   "metadata": {},
   "outputs": [],
   "source": [
    "driver1.get(url1)\n",
    "driver2.get(url2)"
   ]
  },
  {
   "cell_type": "code",
   "execution_count": 92,
   "metadata": {},
   "outputs": [],
   "source": [
    "soup1= BeautifulSoup(driver1.page_source, 'html.parser')\n",
    "soup2= BeautifulSoup(driver2.page_source, 'html.parser')\n"
   ]
  },
  {
   "cell_type": "code",
   "execution_count": 99,
   "metadata": {},
   "outputs": [],
   "source": [
    "brand=[]\n",
    "shoe_desc=[]\n",
    "price=[]\n",
    "#creating empty list"
   ]
  },
  {
   "cell_type": "code",
   "execution_count": 86,
   "metadata": {},
   "outputs": [],
   "source": [
    "def scrap(soup):\n",
    "    for i in soup.find_all('span',class_=\"product-discountedPrice\"):\n",
    "        price.append(i.text)\n",
    "    for i in soup.find_all('h3',class_=\"product-brand\"):\n",
    "        brand.append(i.text)\n",
    "    for i in soup.find_all('h4',class_='product-product'):\n",
    "        shoe_desc.append(i.text)\n",
    "    overall=list(zip(price,brand,shoe_desc))\n",
    "    return overall"
   ]
  },
  {
   "cell_type": "code",
   "execution_count": 93,
   "metadata": {},
   "outputs": [],
   "source": [
    "kk=scrap(soup1)\n",
    "pp=scrap(soup2)\n",
    "#calling two functions ,once that is done using second function as it will store the previous values as well"
   ]
  },
  {
   "cell_type": "code",
   "execution_count": 94,
   "metadata": {},
   "outputs": [],
   "source": [
    "df=pd.DataFrame(pp,columns=[\"Brand\",\"Price\",\"Shoe Description\"])"
   ]
  },
  {
   "cell_type": "code",
   "execution_count": 95,
   "metadata": {},
   "outputs": [
    {
     "data": {
      "text/html": [
       "<div>\n",
       "<style scoped>\n",
       "    .dataframe tbody tr th:only-of-type {\n",
       "        vertical-align: middle;\n",
       "    }\n",
       "\n",
       "    .dataframe tbody tr th {\n",
       "        vertical-align: top;\n",
       "    }\n",
       "\n",
       "    .dataframe thead th {\n",
       "        text-align: right;\n",
       "    }\n",
       "</style>\n",
       "<table border=\"1\" class=\"dataframe\">\n",
       "  <thead>\n",
       "    <tr style=\"text-align: right;\">\n",
       "      <th></th>\n",
       "      <th>Brand</th>\n",
       "      <th>Price</th>\n",
       "      <th>Shoe Description</th>\n",
       "    </tr>\n",
       "  </thead>\n",
       "  <tbody>\n",
       "    <tr>\n",
       "      <th>0</th>\n",
       "      <td>Rs. 6599</td>\n",
       "      <td>Puma</td>\n",
       "      <td>Men HYBRID NETFIT Running Shoe</td>\n",
       "    </tr>\n",
       "    <tr>\n",
       "      <th>1</th>\n",
       "      <td>Rs. 9349</td>\n",
       "      <td>Nike</td>\n",
       "      <td>Men MC Training Shoes</td>\n",
       "    </tr>\n",
       "    <tr>\n",
       "      <th>2</th>\n",
       "      <td>Rs. 5599</td>\n",
       "      <td>ADIDAS Originals</td>\n",
       "      <td>Men Superstar Sneakers</td>\n",
       "    </tr>\n",
       "    <tr>\n",
       "      <th>3</th>\n",
       "      <td>Rs. 6153</td>\n",
       "      <td>Hush Puppies</td>\n",
       "      <td>Men Solid Leather Formal Slip-Ons</td>\n",
       "    </tr>\n",
       "    <tr>\n",
       "      <th>4</th>\n",
       "      <td>Rs. 6236</td>\n",
       "      <td>Puma</td>\n",
       "      <td>Men LQDCELL Running Shoes</td>\n",
       "    </tr>\n",
       "    <tr>\n",
       "      <th>...</th>\n",
       "      <td>...</td>\n",
       "      <td>...</td>\n",
       "      <td>...</td>\n",
       "    </tr>\n",
       "    <tr>\n",
       "      <th>96</th>\n",
       "      <td>Rs. 7499</td>\n",
       "      <td>Geox</td>\n",
       "      <td>Women Sequinned Sneakers</td>\n",
       "    </tr>\n",
       "    <tr>\n",
       "      <th>97</th>\n",
       "      <td>Rs. 6399</td>\n",
       "      <td>Nike</td>\n",
       "      <td>Men Air Zoom Pegasus Running</td>\n",
       "    </tr>\n",
       "    <tr>\n",
       "      <th>98</th>\n",
       "      <td>Rs. 6204</td>\n",
       "      <td>ADIDAS Originals</td>\n",
       "      <td>Men Solid NMD_R1 Sneakers</td>\n",
       "    </tr>\n",
       "    <tr>\n",
       "      <th>99</th>\n",
       "      <td>Rs. 6293</td>\n",
       "      <td>Nike</td>\n",
       "      <td>Women REACT Running Shoes</td>\n",
       "    </tr>\n",
       "    <tr>\n",
       "      <th>100</th>\n",
       "      <td>Rs. 6159</td>\n",
       "      <td>ADIDAS Originals</td>\n",
       "      <td>Men Superstar Vegan Sneakers</td>\n",
       "    </tr>\n",
       "  </tbody>\n",
       "</table>\n",
       "<p>101 rows × 3 columns</p>\n",
       "</div>"
      ],
      "text/plain": [
       "        Brand             Price                   Shoe Description\n",
       "0    Rs. 6599              Puma     Men HYBRID NETFIT Running Shoe\n",
       "1    Rs. 9349              Nike              Men MC Training Shoes\n",
       "2    Rs. 5599  ADIDAS Originals             Men Superstar Sneakers\n",
       "3    Rs. 6153      Hush Puppies  Men Solid Leather Formal Slip-Ons\n",
       "4    Rs. 6236              Puma          Men LQDCELL Running Shoes\n",
       "..        ...               ...                                ...\n",
       "96   Rs. 7499              Geox           Women Sequinned Sneakers\n",
       "97   Rs. 6399              Nike       Men Air Zoom Pegasus Running\n",
       "98   Rs. 6204  ADIDAS Originals          Men Solid NMD_R1 Sneakers\n",
       "99   Rs. 6293              Nike          Women REACT Running Shoes\n",
       "100  Rs. 6159  ADIDAS Originals       Men Superstar Vegan Sneakers\n",
       "\n",
       "[101 rows x 3 columns]"
      ]
     },
     "execution_count": 95,
     "metadata": {},
     "output_type": "execute_result"
    }
   ],
   "source": [
    "df"
   ]
  }
 ],
 "metadata": {
  "kernelspec": {
   "display_name": "Python 3",
   "language": "python",
   "name": "python3"
  },
  "language_info": {
   "codemirror_mode": {
    "name": "ipython",
    "version": 3
   },
   "file_extension": ".py",
   "mimetype": "text/x-python",
   "name": "python",
   "nbconvert_exporter": "python",
   "pygments_lexer": "ipython3",
   "version": "3.8.3"
  }
 },
 "nbformat": 4,
 "nbformat_minor": 4
}
